{
 "cells": [
  {
   "cell_type": "code",
   "execution_count": 2,
   "metadata": {},
   "outputs": [
    {
     "data": {
      "text/plain": [
       "128075"
      ]
     },
     "execution_count": 2,
     "metadata": {},
     "output_type": "execute_result"
    }
   ],
   "source": [
    "ord(\"👋\")"
   ]
  },
  {
   "cell_type": "code",
   "execution_count": 5,
   "metadata": {},
   "outputs": [
    {
     "data": {
      "text/plain": [
       "[255, 254, 69, 0, 100, 0, 100, 0, 105, 0, 101, 0]"
      ]
     },
     "execution_count": 5,
     "metadata": {},
     "output_type": "execute_result"
    }
   ],
   "source": [
    "list(\"Eddie\".encode(\"utf-16\"))"
   ]
  },
  {
   "cell_type": "code",
   "execution_count": 15,
   "metadata": {},
   "outputs": [
    {
     "name": "stdout",
     "output_type": "stream",
     "text": [
      "[230, 150, 156, 227, 130, 129, 228, 184, 131, 229, 141, 129, 228, 184, 131, 229, 186, 166, 227, 129, 174, 228, 184, 166, 227, 129, 179, 227, 129, 167, 230, 179, 163, 227, 129, 143, 230, 179, 163, 227, 129, 143, 229, 152, 182, 227, 129, 143, 227, 131, 138, 227, 131, 138, 227, 131, 143, 227, 131, 179, 228, 184, 131, 229, 143, 176, 233, 155, 163, 227, 129, 170, 227, 129, 143, 228, 184, 166, 227, 129, 185, 227, 129, 166, 233, 149, 183, 231, 156, 186, 227, 130, 129, 32, 78, 97, 110, 97, 109, 101, 32, 110, 97, 110, 97, 106, 121, 117, 117, 110, 97, 110, 97, 45, 100, 111, 32, 110, 111, 32, 110, 97, 114, 97, 98, 105, 32, 100, 101, 32, 110, 97, 107, 117, 110, 97, 107, 117, 32, 105, 110, 97, 110, 97, 107, 117, 32, 110, 97, 110, 97, 104, 97, 110, 32, 110, 97, 110, 97, 100, 97, 105, 32, 110, 97, 110, 110, 97, 107, 117, 32, 110, 97, 114, 97, 98, 101, 116, 101, 32, 110, 97, 103, 97, 110, 97, 103, 97, 109, 101, 46]\n"
     ]
    }
   ],
   "source": [
    "text = \"斜め七十七度の並びで泣く泣く嘶くナナハン七台難なく並べて長眺め Naname nanajyuunana-do no narabi de nakunaku inanaku nanahan nanadai nannaku narabete naganagame.\"\n",
    "tokens = text.encode(\"utf-8\")\n",
    "tokens = list(map(int, tokens))\n",
    "\n",
    "print(tokens)"
   ]
  },
  {
   "cell_type": "code",
   "execution_count": 28,
   "metadata": {},
   "outputs": [],
   "source": [
    "def get_stats(tokens):\n",
    "    counts = {}\n",
    "\n",
    "    for pair in zip(tokens, tokens[1:]):\n",
    "        counts[pair] = counts.get(pair, 0) + 1\n",
    "\n",
    "    return counts\n",
    "    "
   ]
  },
  {
   "cell_type": "code",
   "execution_count": 30,
   "metadata": {},
   "outputs": [
    {
     "data": {
      "text/plain": [
       "(110, 97)"
      ]
     },
     "execution_count": 30,
     "metadata": {},
     "output_type": "execute_result"
    }
   ],
   "source": [
    "counts = get_stats(tokens)\n",
    "\n",
    "top_pair = max(counts, key=counts.get)\n",
    "top_pair"
   ]
  },
  {
   "cell_type": "code",
   "execution_count": 33,
   "metadata": {},
   "outputs": [],
   "source": [
    "def merge(pair, new_token, tokens):\n",
    "    new_tokens = []\n",
    "\n",
    "    i = 0\n",
    "    while i < len(tokens):\n",
    "        if i < len(tokens) - 1 and (tokens[i], tokens[i + 1]) == pair:\n",
    "            new_tokens.append(new_token)\n",
    "            i += 2\n",
    "        else:\n",
    "            new_tokens.append(tokens[i])\n",
    "            i += 1\n",
    "\n",
    "    return new_tokens"
   ]
  },
  {
   "cell_type": "code",
   "execution_count": 35,
   "metadata": {},
   "outputs": [
    {
     "data": {
      "text/plain": [
       "[1, 5, 4]"
      ]
     },
     "execution_count": 35,
     "metadata": {},
     "output_type": "execute_result"
    }
   ],
   "source": [
    "merge((2, 3), 5, [1, 2, 3, 4])"
   ]
  },
  {
   "cell_type": "code",
   "execution_count": 36,
   "metadata": {},
   "outputs": [
    {
     "name": "stdout",
     "output_type": "stream",
     "text": [
      "191\n",
      "[230, 150, 156, 227, 130, 129, 228, 184, 131, 229, 141, 129, 228, 184, 131, 229, 186, 166, 227, 129, 174, 228, 184, 166, 227, 129, 179, 227, 129, 167, 230, 179, 163, 227, 129, 143, 230, 179, 163, 227, 129, 143, 229, 152, 182, 227, 129, 143, 227, 131, 138, 227, 131, 138, 227, 131, 143, 227, 131, 179, 228, 184, 131, 229, 143, 176, 233, 155, 163, 227, 129, 170, 227, 129, 143, 228, 184, 166, 227, 129, 185, 227, 129, 166, 233, 149, 183, 231, 156, 186, 227, 130, 129, 32, 78, 97, 256, 109, 101, 32, 256, 256, 106, 121, 117, 117, 256, 256, 45, 100, 111, 32, 110, 111, 32, 256, 114, 97, 98, 105, 32, 100, 101, 32, 256, 107, 117, 256, 107, 117, 32, 105, 256, 256, 107, 117, 32, 256, 256, 104, 97, 110, 32, 256, 256, 100, 97, 105, 32, 256, 110, 256, 107, 117, 32, 256, 114, 97, 98, 101, 116, 101, 32, 256, 103, 97, 256, 103, 97, 109, 101, 46]\n",
      "172\n"
     ]
    }
   ],
   "source": [
    "print(len(tokens))\n",
    "\n",
    "tokens2 = merge(top_pair, 256, tokens)\n",
    "print(tokens2)\n",
    "print(len(tokens2))"
   ]
  },
  {
   "cell_type": "code",
   "execution_count": null,
   "metadata": {},
   "outputs": [],
   "source": []
  }
 ],
 "metadata": {
  "kernelspec": {
   "display_name": "base",
   "language": "python",
   "name": "python3"
  },
  "language_info": {
   "codemirror_mode": {
    "name": "ipython",
    "version": 3
   },
   "file_extension": ".py",
   "mimetype": "text/x-python",
   "name": "python",
   "nbconvert_exporter": "python",
   "pygments_lexer": "ipython3",
   "version": "3.10.13"
  }
 },
 "nbformat": 4,
 "nbformat_minor": 2
}
