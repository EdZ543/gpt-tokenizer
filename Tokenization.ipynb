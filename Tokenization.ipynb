{
 "cells": [
  {
   "cell_type": "code",
   "execution_count": 1,
   "metadata": {},
   "outputs": [
    {
     "name": "stdout",
     "output_type": "stream",
     "text": [
      "[230, 150, 156, 227, 130, 129, 228, 184, 131, 229, 141, 129, 228, 184, 131, 229, 186, 166, 227, 129, 174, 228, 184, 166, 227, 129, 179, 227, 129, 167, 230, 179, 163, 227, 129, 143, 230, 179, 163, 227, 129, 143, 229, 152, 182, 227, 129, 143, 227, 131, 138, 227, 131, 138, 227, 131, 143, 227, 131, 179, 228, 184, 131, 229, 143, 176, 233, 155, 163, 227, 129, 170, 227, 129, 143, 228, 184, 166, 227, 129, 185, 227, 129, 166, 233, 149, 183, 231, 156, 186, 227, 130, 129, 32, 78, 97, 110, 97, 109, 101, 32, 110, 97, 110, 97, 106, 121, 117, 117, 110, 97, 110, 97, 45, 100, 111, 32, 110, 111, 32, 110, 97, 114, 97, 98, 105, 32, 100, 101, 32, 110, 97, 107, 117, 110, 97, 107, 117, 32, 105, 110, 97, 110, 97, 107, 117, 32, 110, 97, 110, 97, 104, 97, 110, 32, 110, 97, 110, 97, 100, 97, 105, 32, 110, 97, 110, 110, 97, 107, 117, 32, 110, 97, 114, 97, 98, 101, 116, 101, 32, 110, 97, 103, 97, 110, 97, 103, 97, 109, 101, 46]\n"
     ]
    }
   ],
   "source": [
    "text = \"斜め七十七度の並びで泣く泣く嘶くナナハン七台難なく並べて長眺め Naname nanajyuunana-do no narabi de nakunaku inanaku nanahan nanadai nannaku narabete naganagame.\"\n",
    "tokens = text.encode(\"utf-8\")\n",
    "tokens = list(map(int, tokens))\n",
    "\n",
    "print(tokens)"
   ]
  },
  {
   "cell_type": "code",
   "execution_count": 2,
   "metadata": {},
   "outputs": [],
   "source": [
    "def get_stats(tokens):\n",
    "    counts = {}\n",
    "\n",
    "    for pair in zip(tokens, tokens[1:]):\n",
    "        counts[pair] = counts.get(pair, 0) + 1\n",
    "\n",
    "    return counts\n",
    "    "
   ]
  },
  {
   "cell_type": "code",
   "execution_count": 3,
   "metadata": {},
   "outputs": [],
   "source": [
    "def merge(pair, new_token, tokens):\n",
    "    new_tokens = []\n",
    "\n",
    "    i = 0\n",
    "    while i < len(tokens):\n",
    "        if i < len(tokens) - 1 and (tokens[i], tokens[i + 1]) == pair:\n",
    "            new_tokens.append(new_token)\n",
    "            i += 2\n",
    "        else:\n",
    "            new_tokens.append(tokens[i])\n",
    "            i += 1\n",
    "\n",
    "    return new_tokens"
   ]
  },
  {
   "cell_type": "code",
   "execution_count": 4,
   "metadata": {},
   "outputs": [
    {
     "name": "stdout",
     "output_type": "stream",
     "text": [
      "Merging (110, 97) into 256\n",
      "Merging (227, 129) into 257\n",
      "Merging (32, 256) into 258\n",
      "Merging (228, 184) into 259\n",
      "Merging (257, 143) into 260\n",
      "Merging (227, 131) into 261\n",
      "Merging (107, 117) into 262\n",
      "Merging (259, 131) into 263\n",
      "Merging (263, 229) into 264\n",
      "Merging (166, 257) into 265\n",
      "Merging (101, 258) into 266\n",
      "Merging (256, 262) into 267\n",
      "Merging (227, 130) into 268\n",
      "Merging (268, 129) into 269\n",
      "Merging (259, 265) into 270\n",
      "Merging (230, 179) into 271\n",
      "Merging (271, 163) into 272\n",
      "Merging (272, 260) into 273\n",
      "Merging (261, 138) into 274\n",
      "Merging (97, 256) into 275\n"
     ]
    }
   ],
   "source": [
    "vocab_size = 276\n",
    "num_merges = vocab_size - 256\n",
    "old_tokens = tokens\n",
    "\n",
    "merges = {} # (int, int) -> int\n",
    "for i in range(num_merges):\n",
    "    stats = get_stats(tokens)\n",
    "    top_pair = max(stats, key=stats.get)\n",
    "    new_token = 256 + i\n",
    "    print(f\"Merging {top_pair} into {new_token}\")\n",
    "    tokens = merge(top_pair, new_token, tokens)\n",
    "    merges[top_pair] = new_token"
   ]
  },
  {
   "cell_type": "code",
   "execution_count": 13,
   "metadata": {},
   "outputs": [],
   "source": [
    "vocab = { idx: bytes([idx]) for idx in range(256) }\n",
    "for (a, b), idx in merges.items():\n",
    "    vocab[idx] = vocab[a] + vocab[b]\n",
    "\n",
    "def decode(ids):\n",
    "    tokens = b\"\".join(vocab[idx] for idx in ids)\n",
    "    return tokens.decode(\"utf-8\", errors=\"replace\")"
   ]
  },
  {
   "cell_type": "code",
   "execution_count": 22,
   "metadata": {},
   "outputs": [
    {
     "name": "stdout",
     "output_type": "stream",
     "text": [
      "[78, 121, 97, 33, 32, 75, 97, 119, 97, 105, 105, 33]\n",
      "Nya! Kawaii!\n"
     ]
    }
   ],
   "source": [
    "def encode(text):\n",
    "    tokens = list(text.encode(\"utf-8\"))\n",
    "\n",
    "    while len(tokens) >= 2:\n",
    "        stats = get_stats(tokens)\n",
    "        pair = min(stats, key = lambda p: merges.get(p, float(\"inf\")))\n",
    "        if pair not in merges:\n",
    "            break\n",
    "        new_token = merges[pair]\n",
    "        tokens = merge(pair, new_token, tokens)\n",
    "\n",
    "    return tokens\n",
    "        \n",
    "text = \"Nya! Kawaii!\"\n",
    "encoded = encode(text)\n",
    "decoded = decode(encoded)\n",
    "print(encoded)\n",
    "print(decoded)"
   ]
  }
 ],
 "metadata": {
  "kernelspec": {
   "display_name": "base",
   "language": "python",
   "name": "python3"
  },
  "language_info": {
   "codemirror_mode": {
    "name": "ipython",
    "version": 3
   },
   "file_extension": ".py",
   "mimetype": "text/x-python",
   "name": "python",
   "nbconvert_exporter": "python",
   "pygments_lexer": "ipython3",
   "version": "3.10.13"
  }
 },
 "nbformat": 4,
 "nbformat_minor": 2
}
